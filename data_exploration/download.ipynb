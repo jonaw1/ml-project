{
 "cells": [
  {
   "cell_type": "markdown",
   "metadata": {},
   "source": [
    "# Hackathon-Datensatz\n",
    "\n",
    "## Maschinelles Lernen - WiSe 23/24\n",
    "\n",
    "Führen Sie die folgenden Notenbook-Zellen aus, um den Hackathon-Datensatz herunterzuladen. Sie können das Zielverzeichnis mithilfe der Variablen `unzip_path` spezifizieren.\n",
    "In das angegebene Verzeichnis werden zwei Dateien entpackt:\n",
    "- `train.csv` enthält den Datensatz als CSV-Datei\n",
    "- `data_description` enthält eine kurze Beschreibung aller Attribute und eine Erläuterung der bei nominalen Attributen verwendeten Abkürzungen"
   ]
  },
  {
   "cell_type": "code",
   "execution_count": null,
   "metadata": {},
   "outputs": [],
   "source": [
    "import os\n",
    "from dotenv import load_dotenv\n",
    "\n",
    "load_dotenv()\n",
    "DATA_FOLDER = os.getenv(\"DATA_FOLDER\").replace('/', os.sep)\n",
    "\n",
    "unzip_path = DATA_FOLDER"
   ]
  },
  {
   "cell_type": "code",
   "execution_count": null,
   "metadata": {},
   "outputs": [],
   "source": [
    "from io import BytesIO\n",
    "from urllib.request import urlopen\n",
    "from zipfile import ZipFile\n",
    "\n",
    "data_url = 'https://dshare.mathematik.uni-marburg.de/index.php/s/St65qJDyZpLop9T/download/training_dataset.zip'\n",
    "\n",
    "with urlopen(data_url) as zipresp:\n",
    "    with ZipFile(BytesIO(zipresp.read())) as zfile:\n",
    "        zfile.extractall(unzip_path)\n",
    "        \n",
    "print('Dataset extracted to \"{:s}\"'.format(os.path.realpath(unzip_path)))"
   ]
  },
  {
   "cell_type": "markdown",
   "metadata": {
    "collapsed": false
   },
   "source": [
    "# Datensatz laden"
   ]
  },
  {
   "cell_type": "code",
   "execution_count": null,
   "metadata": {
    "ExecuteTime": {
     "end_time": "2023-11-08T14:42:05.688893Z",
     "start_time": "2023-11-08T14:42:05.645633Z"
    },
    "collapsed": false
   },
   "outputs": [],
   "source": [
    "import pandas as pd\n",
    "import numpy as np\n",
    "\n",
    "df = pd.read_csv(unzip_path + 'train.csv')\n",
    "df.head()"
   ]
  }
 ],
 "metadata": {
  "kernelspec": {
   "display_name": "Python 3",
   "language": "python",
   "name": "python3"
  },
  "language_info": {
   "codemirror_mode": {
    "name": "ipython",
    "version": 3
   },
   "file_extension": ".py",
   "mimetype": "text/x-python",
   "name": "python",
   "nbconvert_exporter": "python",
   "pygments_lexer": "ipython3",
   "version": "3.9.6"
  }
 },
 "nbformat": 4,
 "nbformat_minor": 4
}
