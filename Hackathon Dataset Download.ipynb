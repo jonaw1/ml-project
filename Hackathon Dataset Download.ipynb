{
 "cells": [
  {
   "cell_type": "markdown",
   "metadata": {},
   "source": [
    "# Hackathon-Datensatz\n",
    "\n",
    "## Maschinelles Lernen - WiSe 23/24\n",
    "\n",
    "Führen Sie die folgenden Notenbook-Zellen aus, um den Hackathon-Datensatz herunterzuladen. Sie können das Zielverzeichnis mithilfe der Variablen `unzip_path` spezifizieren.\n",
    "In das angegebene Verzeichnis werden zwei Dateien entpackt:\n",
    "- `train.csv` enthält den Datensatz als CSV-Datei\n",
    "- `data_description` enthält eine kurze Beschreibung aller Attribute und eine Erläuterung der bei nominalen Attributen verwendeten Abkürzungen"
   ]
  },
  {
   "cell_type": "code",
   "execution_count": 1,
   "metadata": {},
   "outputs": [],
   "source": [
    "unzip_path = \"./dataset/\""
   ]
  },
  {
   "cell_type": "code",
   "execution_count": 2,
   "metadata": {},
   "outputs": [
    {
     "name": "stdout",
     "output_type": "stream",
     "text": [
      "Dataset extracted to \"/Users/jonawag/Documents/University/Winter 2324/Machine Learning/ml-project1/dataset\"\n"
     ]
    }
   ],
   "source": [
    "from io import BytesIO\n",
    "from urllib.request import urlopen\n",
    "from zipfile import ZipFile\n",
    "import os\n",
    "\n",
    "data_url = \"https://dshare.mathematik.uni-marburg.de/index.php/s/St65qJDyZpLop9T/download/training_dataset.zip\"\n",
    "\n",
    "with urlopen(data_url) as zipresp:\n",
    "    with ZipFile(BytesIO(zipresp.read())) as zfile:\n",
    "        zfile.extractall(unzip_path)\n",
    "        \n",
    "print('Dataset extracted to \"{:s}\"'.format(os.path.realpath(unzip_path)))"
   ]
  }
 ],
 "metadata": {
  "kernelspec": {
   "display_name": "Python 3",
   "language": "python",
   "name": "python3"
  },
  "language_info": {
   "codemirror_mode": {
    "name": "ipython",
    "version": 3
   },
   "file_extension": ".py",
   "mimetype": "text/x-python",
   "name": "python",
   "nbconvert_exporter": "python",
   "pygments_lexer": "ipython3",
   "version": "3.9.6"
  }
 },
 "nbformat": 4,
 "nbformat_minor": 4
}
