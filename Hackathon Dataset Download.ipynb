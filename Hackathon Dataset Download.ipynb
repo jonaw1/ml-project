{
 "cells": [
  {
   "cell_type": "markdown",
   "metadata": {},
   "source": [
    "# Hackathon-Datensatz\n",
    "\n",
    "## Maschinelles Lernen - WiSe 23/24\n",
    "\n",
    "Führen Sie die folgenden Notenbook-Zellen aus, um den Hackathon-Datensatz herunterzuladen. Sie können das Zielverzeichnis mithilfe der Variablen `unzip_path` spezifizieren.\n",
    "In das angegebene Verzeichnis werden zwei Dateien entpackt:\n",
    "- `train.csv` enthält den Datensatz als CSV-Datei\n",
    "- `data_description` enthält eine kurze Beschreibung aller Attribute und eine Erläuterung der bei nominalen Attributen verwendeten Abkürzungen"
   ]
  },
  {
   "cell_type": "code",
   "execution_count": 1,
   "metadata": {},
   "outputs": [],
   "source": [
    "unzip_path = \"./dataset/\""
   ]
  },
  {
   "cell_type": "code",
   "execution_count": 2,
   "metadata": {},
   "outputs": [
    {
     "name": "stdout",
     "output_type": "stream",
     "text": [
      "Dataset extracted to \"/Users/jonawag/Documents/University/Winter 2324/Machine Learning/ml-project1/dataset\"\n"
     ]
    }
   ],
   "source": [
    "from io import BytesIO\n",
    "from urllib.request import urlopen\n",
    "from zipfile import ZipFile\n",
    "import os\n",
    "\n",
    "data_url = \"https://dshare.mathematik.uni-marburg.de/index.php/s/St65qJDyZpLop9T/download/training_dataset.zip\"\n",
    "\n",
    "with urlopen(data_url) as zipresp:\n",
    "    with ZipFile(BytesIO(zipresp.read())) as zfile:\n",
    "        zfile.extractall(unzip_path)\n",
    "        \n",
    "print('Dataset extracted to \"{:s}\"'.format(os.path.realpath(unzip_path)))"
   ]
  },
  {
   "cell_type": "markdown",
   "source": [
    "# Datensatz laden"
   ],
   "metadata": {
    "collapsed": false
   }
  },
  {
   "cell_type": "code",
   "execution_count": 13,
   "outputs": [
    {
     "data": {
      "text/plain": "   Id Wohngebiet Nachbarschaft Bedingung1 Bedingung2  Wohnungsklasse  \\\n0   1         WN        Gallus       Norm       Norm              20   \n1   2         WN        Gallus       Norm       Norm              20   \n2   3         WN       Eckenhe       Norm       Norm              50   \n3   4         WN       Ginnhei       Norm       Norm              60   \n4   5         WN       Eckenhe       Norm       Norm              70   \n\n  Gebauedetyp Wohnungsstil  Baujahr  Umbaujahr  ...  Garagenqualitaet  \\\n0        1Fam         1Sto     1962       1962  ...                Du   \n1        1Fam         1Sto     2015       2016  ...                Du   \n2        1Fam         2Sto     1930       1960  ...                Du   \n3        1Fam         2Sto     2009       2010  ...                Du   \n4        1Fam         2Sto     1939       1960  ...                Du   \n\n   Garagenzustand EinfahrtGepflastert  Sondermerkmal SondermerkmalWert  \\\n0              Ar                   J            NaN               0.0   \n1              Du                   J            NaN               0.0   \n2              Du                   P            NaN               0.0   \n3              Du                   J            NaN               0.0   \n4              Du                   J            NaN               0.0   \n\n  Verkaufsmonat Verkaufsjahr Verkaufstyp  Verkaufsbedingung Verkaufspreis  \n0             7         2019        GarK             Normal       69700.0  \n1             6         2017        GarK             Normal      133450.0  \n2             9         2016        GarK             Normal      165750.0  \n3             5         2017        GarK             Normal      157250.0  \n4             6         2016        GarK             Normal      195500.0  \n\n[5 rows x 81 columns]",
      "text/html": "<div>\n<style scoped>\n    .dataframe tbody tr th:only-of-type {\n        vertical-align: middle;\n    }\n\n    .dataframe tbody tr th {\n        vertical-align: top;\n    }\n\n    .dataframe thead th {\n        text-align: right;\n    }\n</style>\n<table border=\"1\" class=\"dataframe\">\n  <thead>\n    <tr style=\"text-align: right;\">\n      <th></th>\n      <th>Id</th>\n      <th>Wohngebiet</th>\n      <th>Nachbarschaft</th>\n      <th>Bedingung1</th>\n      <th>Bedingung2</th>\n      <th>Wohnungsklasse</th>\n      <th>Gebauedetyp</th>\n      <th>Wohnungsstil</th>\n      <th>Baujahr</th>\n      <th>Umbaujahr</th>\n      <th>...</th>\n      <th>Garagenqualitaet</th>\n      <th>Garagenzustand</th>\n      <th>EinfahrtGepflastert</th>\n      <th>Sondermerkmal</th>\n      <th>SondermerkmalWert</th>\n      <th>Verkaufsmonat</th>\n      <th>Verkaufsjahr</th>\n      <th>Verkaufstyp</th>\n      <th>Verkaufsbedingung</th>\n      <th>Verkaufspreis</th>\n    </tr>\n  </thead>\n  <tbody>\n    <tr>\n      <th>0</th>\n      <td>1</td>\n      <td>WN</td>\n      <td>Gallus</td>\n      <td>Norm</td>\n      <td>Norm</td>\n      <td>20</td>\n      <td>1Fam</td>\n      <td>1Sto</td>\n      <td>1962</td>\n      <td>1962</td>\n      <td>...</td>\n      <td>Du</td>\n      <td>Ar</td>\n      <td>J</td>\n      <td>NaN</td>\n      <td>0.0</td>\n      <td>7</td>\n      <td>2019</td>\n      <td>GarK</td>\n      <td>Normal</td>\n      <td>69700.0</td>\n    </tr>\n    <tr>\n      <th>1</th>\n      <td>2</td>\n      <td>WN</td>\n      <td>Gallus</td>\n      <td>Norm</td>\n      <td>Norm</td>\n      <td>20</td>\n      <td>1Fam</td>\n      <td>1Sto</td>\n      <td>2015</td>\n      <td>2016</td>\n      <td>...</td>\n      <td>Du</td>\n      <td>Du</td>\n      <td>J</td>\n      <td>NaN</td>\n      <td>0.0</td>\n      <td>6</td>\n      <td>2017</td>\n      <td>GarK</td>\n      <td>Normal</td>\n      <td>133450.0</td>\n    </tr>\n    <tr>\n      <th>2</th>\n      <td>3</td>\n      <td>WN</td>\n      <td>Eckenhe</td>\n      <td>Norm</td>\n      <td>Norm</td>\n      <td>50</td>\n      <td>1Fam</td>\n      <td>2Sto</td>\n      <td>1930</td>\n      <td>1960</td>\n      <td>...</td>\n      <td>Du</td>\n      <td>Du</td>\n      <td>P</td>\n      <td>NaN</td>\n      <td>0.0</td>\n      <td>9</td>\n      <td>2016</td>\n      <td>GarK</td>\n      <td>Normal</td>\n      <td>165750.0</td>\n    </tr>\n    <tr>\n      <th>3</th>\n      <td>4</td>\n      <td>WN</td>\n      <td>Ginnhei</td>\n      <td>Norm</td>\n      <td>Norm</td>\n      <td>60</td>\n      <td>1Fam</td>\n      <td>2Sto</td>\n      <td>2009</td>\n      <td>2010</td>\n      <td>...</td>\n      <td>Du</td>\n      <td>Du</td>\n      <td>J</td>\n      <td>NaN</td>\n      <td>0.0</td>\n      <td>5</td>\n      <td>2017</td>\n      <td>GarK</td>\n      <td>Normal</td>\n      <td>157250.0</td>\n    </tr>\n    <tr>\n      <th>4</th>\n      <td>5</td>\n      <td>WN</td>\n      <td>Eckenhe</td>\n      <td>Norm</td>\n      <td>Norm</td>\n      <td>70</td>\n      <td>1Fam</td>\n      <td>2Sto</td>\n      <td>1939</td>\n      <td>1960</td>\n      <td>...</td>\n      <td>Du</td>\n      <td>Du</td>\n      <td>J</td>\n      <td>NaN</td>\n      <td>0.0</td>\n      <td>6</td>\n      <td>2016</td>\n      <td>GarK</td>\n      <td>Normal</td>\n      <td>195500.0</td>\n    </tr>\n  </tbody>\n</table>\n<p>5 rows × 81 columns</p>\n</div>"
     },
     "execution_count": 13,
     "metadata": {},
     "output_type": "execute_result"
    }
   ],
   "source": [
    "import pandas as pd\n",
    "import numpy as np\n",
    "\n",
    "df = pd.read_csv(unzip_path + \"train.csv\")\n",
    "df.head()"
   ],
   "metadata": {
    "collapsed": false,
    "ExecuteTime": {
     "end_time": "2023-11-08T14:42:05.688893Z",
     "start_time": "2023-11-08T14:42:05.645633Z"
    }
   }
  }
 ],
 "metadata": {
  "kernelspec": {
   "display_name": "Python 3",
   "language": "python",
   "name": "python3"
  },
  "language_info": {
   "codemirror_mode": {
    "name": "ipython",
    "version": 3
   },
   "file_extension": ".py",
   "mimetype": "text/x-python",
   "name": "python",
   "nbconvert_exporter": "python",
   "pygments_lexer": "ipython3",
   "version": "3.9.6"
  }
 },
 "nbformat": 4,
 "nbformat_minor": 4
}
